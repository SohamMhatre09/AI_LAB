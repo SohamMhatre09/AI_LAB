{
 "cells": [
  {
   "cell_type": "markdown",
   "id": "777408aa-b1f7-439a-b1c6-dcfa12e8499d",
   "metadata": {},
   "source": [
    "## Assignment No.5"
   ]
  },
  {
   "cell_type": "markdown",
   "id": "0cdebdbb-305c-4bd3-acc5-ab797fd7eb2c",
   "metadata": {},
   "source": [
    "### Write a program to implement Local search Hill climbing algorithm for blocks world problem"
   ]
  },
  {
   "cell_type": "code",
   "execution_count": 10,
   "id": "bd138c58-0412-4f66-8671-cdf10b0d42fb",
   "metadata": {
    "scrolled": true
   },
   "outputs": [
    {
     "name": "stdout",
     "output_type": "stream",
     "text": [
      "[[], [], [], ['B', 'C', 'D', 'A']]\n",
      "[['A'], [], [], ['B', 'C', 'D']]\n",
      "[['A', 'D'], [], [], ['B', 'C']]\n",
      "[['A'], ['D'], [], ['B', 'C']]\n",
      "[['A'], ['D'], ['C'], ['B']]\n",
      "[['A', 'B'], ['D'], ['C'], []]\n",
      "[['A', 'B', 'C'], ['D'], [], []]\n",
      "[['A', 'B', 'C', 'D'], [], [], []]\n",
      "Final state -  [['A', 'B', 'C', 'D'], [], [], []]\n"
     ]
    }
   ],
   "source": [
    "import copy\n",
    "\n",
    "visited_states = []\n",
    "def heuristic(curr_state,goal_state):\n",
    "    goal_=goal_state[3]\n",
    "    val=0\n",
    "    for i in range(len(curr_state)):\n",
    "        check_val=curr_state[i]\n",
    "        if len(check_val)>0:\n",
    "            for j in range(len(check_val)):\n",
    "                if check_val[j]!=goal_[j]:\n",
    "                    val-=j\n",
    "                else:\n",
    "                    val+=j\n",
    "    return val\n",
    "            \n",
    "def generate_next(curr_state,prev_heu,goal_state):\n",
    "    global visited_states\n",
    "    state = copy.deepcopy(curr_state)\n",
    "    for i in range(len(state)):\n",
    "        temp = copy.deepcopy(state)\n",
    "        if len(temp[i]) > 0:\n",
    "            elem = temp[i].pop()\n",
    "            for j in range(len(temp)):\n",
    "                temp1 = copy.deepcopy(temp)\n",
    "                if j != i:\n",
    "                    temp1[j] = temp1[j] + [elem]\n",
    "                    if (temp1 not in visited_states):\n",
    "                        curr_heu=heuristic(temp1,goal_state)\n",
    "                        if curr_heu>prev_heu:\n",
    "                            child = copy.deepcopy(temp1)\n",
    "                            return child\n",
    "    return 0\n",
    "\n",
    "def solution_(init_state,goal_state):\n",
    "    global visited_states\n",
    "    if (init_state == goal_state):\n",
    "        print (goal_state)\n",
    "        print(\"solution found!\")\n",
    "        return\n",
    "    \n",
    "    current_state = copy.deepcopy(init_state)\n",
    "    while(True):\n",
    "        visited_states.append(copy.deepcopy(current_state))\n",
    "        print(current_state)\n",
    "        prev_heu=heuristic(current_state,goal_state)\n",
    "        child = generate_next(current_state,prev_heu,goal_state)\n",
    "        if child==0:\n",
    "            print(\"Final state - \",current_state)\n",
    "            return\n",
    "        current_state = copy.deepcopy(child)  \n",
    "\n",
    "def solver():\n",
    "    global visited_states\n",
    "    init_state = [[],[],[],['B','C','D','A']]\n",
    "    goal_state = [[],[],[],['A','B','C','D']]\n",
    "    solution_(init_state,goal_state)\n",
    "\n",
    "solver()"
   ]
  }
 ],
 "metadata": {
  "kernelspec": {
   "display_name": "Python 3 (ipykernel)",
   "language": "python",
   "name": "python3"
  },
  "language_info": {
   "codemirror_mode": {
    "name": "ipython",
    "version": 3
   },
   "file_extension": ".py",
   "mimetype": "text/x-python",
   "name": "python",
   "nbconvert_exporter": "python",
   "pygments_lexer": "ipython3",
   "version": "3.11.0"
  }
 },
 "nbformat": 4,
 "nbformat_minor": 5
}
