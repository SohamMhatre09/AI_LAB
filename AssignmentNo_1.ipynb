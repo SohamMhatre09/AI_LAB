{
 "cells": [
  {
   "cell_type": "markdown",
   "id": "46be2a00-5cc5-4cea-99e9-6c5f068db8b0",
   "metadata": {},
   "source": [
    "## Assignment No. 1"
   ]
  },
  {
   "cell_type": "markdown",
   "id": "46f601fc-524a-4286-b081-d73d5b77def6",
   "metadata": {},
   "source": [
    "### Write a program to implement depth Limited search algorithm and Breadth First Search algorithm, Use an undirected graph and develop a recursive algorithm for searching all the vertices of a graph or tree data structure.\n"
   ]
  },
  {
   "cell_type": "code",
   "execution_count": 10,
   "id": "1e66e833-83a9-4a90-a1a1-79958a7cedb5",
   "metadata": {},
   "outputs": [
    {
     "name": "stdout",
     "output_type": "stream",
     "text": [
      "\n",
      "Menu:\n",
      "1. Add Graph\n",
      "2. Set Start Vertex\n",
      "3. Depth-Limited Search\n",
      "4. Explore All Vertices\n",
      "5. Breadth-First Search\n",
      "6. Exit\n"
     ]
    },
    {
     "name": "stdin",
     "output_type": "stream",
     "text": [
      "Enter your choice:  1\n",
      "Enter the number of edges:  7\n",
      "Enter edge (u v):  0 4\n",
      "Enter edge (u v):  0 1\n",
      "Enter edge (u v):  1 4\n",
      "Enter edge (u v):  1 3\n",
      "Enter edge (u v):  3 4\n",
      "Enter edge (u v):  1 2\n",
      "Enter edge (u v):  2 3\n"
     ]
    },
    {
     "name": "stdout",
     "output_type": "stream",
     "text": [
      "Graph added successfully.\n",
      "\n",
      "Menu:\n",
      "1. Add Graph\n",
      "2. Set Start Vertex\n",
      "3. Depth-Limited Search\n",
      "4. Explore All Vertices\n",
      "5. Breadth-First Search\n",
      "6. Exit\n"
     ]
    },
    {
     "name": "stdin",
     "output_type": "stream",
     "text": [
      "Enter your choice:  2\n",
      "Enter the start vertex:  2\n"
     ]
    },
    {
     "name": "stdout",
     "output_type": "stream",
     "text": [
      "\n",
      "Menu:\n",
      "1. Add Graph\n",
      "2. Set Start Vertex\n",
      "3. Depth-Limited Search\n",
      "4. Explore All Vertices\n",
      "5. Breadth-First Search\n",
      "6. Exit\n"
     ]
    },
    {
     "name": "stdin",
     "output_type": "stream",
     "text": [
      "Enter your choice:  4\n"
     ]
    },
    {
     "name": "stdout",
     "output_type": "stream",
     "text": [
      "\n",
      "Explore All Vertices:\n",
      "2 1 0 4 3 \n",
      "Menu:\n",
      "1. Add Graph\n",
      "2. Set Start Vertex\n",
      "3. Depth-Limited Search\n",
      "4. Explore All Vertices\n",
      "5. Breadth-First Search\n",
      "6. Exit\n"
     ]
    },
    {
     "name": "stdin",
     "output_type": "stream",
     "text": [
      "Enter your choice:  5\n",
      "Enter the target vertex for Breadth-First Search:  0\n"
     ]
    },
    {
     "name": "stdout",
     "output_type": "stream",
     "text": [
      "0 exists in the graph at depth of 2\n",
      "\n",
      "Menu:\n",
      "1. Add Graph\n",
      "2. Set Start Vertex\n",
      "3. Depth-Limited Search\n",
      "4. Explore All Vertices\n",
      "5. Breadth-First Search\n",
      "6. Exit\n"
     ]
    },
    {
     "name": "stdin",
     "output_type": "stream",
     "text": [
      "Enter your choice:  3\n",
      "Enter the target vertex for Depth-Limited Search:  3\n",
      "Enter the depth limit:  2\n"
     ]
    },
    {
     "name": "stdout",
     "output_type": "stream",
     "text": [
      "3 exists in the graph at depth of -3\n",
      "\n",
      "Menu:\n",
      "1. Add Graph\n",
      "2. Set Start Vertex\n",
      "3. Depth-Limited Search\n",
      "4. Explore All Vertices\n",
      "5. Breadth-First Search\n",
      "6. Exit\n"
     ]
    },
    {
     "name": "stdin",
     "output_type": "stream",
     "text": [
      "Enter your choice:  6\n"
     ]
    },
    {
     "name": "stdout",
     "output_type": "stream",
     "text": [
      "Exiting the program.\n"
     ]
    }
   ],
   "source": [
    "from collections import defaultdict\n",
    "\n",
    "class Graph:\n",
    "    def __init__(self):\n",
    "        self.graph = defaultdict(list)\n",
    "\n",
    "    def add_edge(self, u, v):\n",
    "        self.graph[u].append(v)\n",
    "        self.graph[v].append(u)\n",
    "\n",
    "    def add_graph(self, edges):\n",
    "        for u, v in edges:\n",
    "            self.add_edge(u, v)\n",
    "\n",
    "    def depth_limited_search(self, start, target, depth_limit):\n",
    "        visited = set()\n",
    "\n",
    "        def dls(current, depth):\n",
    "            if current == target:\n",
    "                return True, depth\n",
    "            if depth == 0:\n",
    "                return False, depth\n",
    "            visited.add(current)\n",
    "            for neighbor in self.graph[current]:\n",
    "                if neighbor not in visited:\n",
    "                    result, depth = dls(neighbor, depth - 1)\n",
    "                    if result:\n",
    "                        return True, depth\n",
    "            return False, depth\n",
    "\n",
    "        return dls(start, depth_limit)\n",
    "\n",
    "    def display(self, start, visited=None):\n",
    "        if visited is None:\n",
    "            visited = set()\n",
    "        visited.add(start)\n",
    "        print(start, end=\" \")\n",
    "        for neighbor in self.graph[start]:\n",
    "            if neighbor not in visited:\n",
    "                self.display(neighbor, visited)\n",
    "\n",
    "    def breadth_first_search(self, start, target):\n",
    "        visited = set()\n",
    "        queue = [(start, 0)]\n",
    "        while queue:\n",
    "            current, depth = queue.pop(0)\n",
    "            if current == target:\n",
    "                return True, depth\n",
    "            visited.add(current)\n",
    "            for neighbor in self.graph[current]:\n",
    "                if neighbor not in visited:\n",
    "                    queue.append((neighbor, depth + 1))\n",
    "                    visited.add(neighbor)\n",
    "        return False, None\n",
    "\n",
    "def menu():\n",
    "    graph = Graph()\n",
    "    start_vertex = None\n",
    "    while True:\n",
    "        print(\"\\nMenu:\")\n",
    "        print(\"1. Add Graph\")\n",
    "        print(\"2. Set Start Vertex\")\n",
    "        print(\"3. Depth-Limited Search\")\n",
    "        print(\"4. Explore All Vertices\")\n",
    "        print(\"5. Breadth-First Search\")\n",
    "        print(\"6. Exit\")\n",
    "        choice = input(\"Enter your choice: \")\n",
    "        if choice == '1':\n",
    "            edges = []\n",
    "            num_edges = int(input(\"Enter the number of edges: \"))\n",
    "            for _ in range(num_edges):\n",
    "                edge_input = input(\"Enter edge (u v): \")\n",
    "                u, v = map(int, edge_input.split())\n",
    "                edges.append((u, v))\n",
    "            graph.add_graph(edges)\n",
    "            print(\"Graph added successfully.\")\n",
    "        elif choice == '2':\n",
    "            start_vertex = int(input(\"Enter the start vertex: \"))\n",
    "        elif choice == '3':\n",
    "            if start_vertex is None:\n",
    "                print(\"Please set the start vertex first.\")\n",
    "                continue\n",
    "            target_vertex_dls = int(input(\"Enter the target vertex for Depth-Limited Search: \"))\n",
    "            depth_limit = int(input(\"Enter the depth limit: \"))\n",
    "            result_dls, depth = graph.depth_limited_search(start_vertex, target_vertex_dls, depth_limit)\n",
    "            if result_dls:\n",
    "                print(f\"{target_vertex_dls} exists in the graph at depth of {depth}\")\n",
    "            else:\n",
    "                print(f\"{target_vertex_dls} doesn't exist in the graph within the depth limit\")\n",
    "        elif choice == '4':\n",
    "            if start_vertex is None:\n",
    "                print(\"Please set the start vertex first.\")\n",
    "                continue\n",
    "            print(\"\\nExplore All Vertices:\")\n",
    "            graph.display(start_vertex)\n",
    "        elif choice == '5':\n",
    "            if start_vertex is None:\n",
    "                print(\"Please set the start vertex first.\")\n",
    "                continue\n",
    "            target_vertex_bfs = int(input(\"Enter the target vertex for Breadth-First Search: \"))\n",
    "            result_bfs, depth = graph.breadth_first_search(start_vertex, target_vertex_bfs)\n",
    "            if result_bfs:\n",
    "                print(f\"{target_vertex_bfs} exists in the graph at depth of {depth}\")\n",
    "            else:\n",
    "                print(f\"{target_vertex_bfs} doesn't exist in the graph\")\n",
    "        elif choice == '6':\n",
    "            print(\"Exiting the program.\")\n",
    "            break\n",
    "        else:\n",
    "            print(\"Invalid choice. Please try again.\")\n",
    "\n",
    "if __name__ == \"__main__\":\n",
    "    menu()\n"
   ]
  },
  {
   "cell_type": "code",
   "execution_count": null,
   "id": "e2a4c7d6-bda0-4e8a-b5de-cb6a2df8b46d",
   "metadata": {},
   "outputs": [],
   "source": []
  }
 ],
 "metadata": {
  "kernelspec": {
   "display_name": "Python 3 (ipykernel)",
   "language": "python",
   "name": "python3"
  },
  "language_info": {
   "codemirror_mode": {
    "name": "ipython",
    "version": 3
   },
   "file_extension": ".py",
   "mimetype": "text/x-python",
   "name": "python",
   "nbconvert_exporter": "python",
   "pygments_lexer": "ipython3",
   "version": "3.11.0"
  }
 },
 "nbformat": 4,
 "nbformat_minor": 5
}
