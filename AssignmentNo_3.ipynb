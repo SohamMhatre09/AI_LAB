{
 "cells": [
  {
   "cell_type": "markdown",
   "id": "5bee28db-4b1c-46a0-8e9f-9e12cc21679f",
   "metadata": {},
   "source": [
    "## Assignment No.3"
   ]
  },
  {
   "cell_type": "markdown",
   "id": "3945c38f-4441-40a3-b6d4-5d1d07676464",
   "metadata": {},
   "source": [
    "Solve 8 puzzle problem using A* algorithm. Assume any initial configuration and define \n",
    "goal configuration clearly\r"
   ]
  },
  {
   "cell_type": "code",
   "execution_count": 8,
   "id": "5332f53a-db09-4604-a2c7-669bc8d3e4df",
   "metadata": {},
   "outputs": [
    {
     "name": "stdout",
     "output_type": "stream",
     "text": [
      "Step 0:\n",
      "[1, 2, 3]\n",
      "[4, 5, 6]\n",
      "[7, 8, 'X']\n",
      "\n",
      "Step 1:\n",
      "[1, 2, 3]\n",
      "[4, 5, 6]\n",
      "[7, 'X', 8]\n",
      "\n",
      "Step 2:\n",
      "[1, 2, 3]\n",
      "[4, 'X', 6]\n",
      "[7, 5, 8]\n",
      "\n",
      "Step 3:\n",
      "[1, 2, 3]\n",
      "['X', 4, 6]\n",
      "[7, 5, 8]\n",
      "\n",
      "Solution found in 4 steps.\n"
     ]
    }
   ],
   "source": [
    "def find_position(value, grid):\n",
    "    for i, row in enumerate(grid):\n",
    "        for j, tile in enumerate(row):\n",
    "            if tile == value:\n",
    "                return i, j\n",
    "\n",
    "def manhattan_distance(state, goal_state):\n",
    "    distance = 0\n",
    "    for i in range(3):\n",
    "        for j in range(3):\n",
    "            if state[i][j] != 'X':\n",
    "                goal_row, goal_col = find_position(state[i][j], goal_state)\n",
    "                distance += abs(i - goal_row) + abs(j - goal_col)\n",
    "    return distance\n",
    "\n",
    "def print_configuration(matrix):\n",
    "    for row in matrix:\n",
    "        print(row)\n",
    "    print()\n",
    "\n",
    "def generate_successors(state):\n",
    "    successors = []\n",
    "    blank_row, blank_col = next((i, j) for i, row in enumerate(state) for j, tile in enumerate(row) if tile == 'X')\n",
    "    for i, j in [(blank_row - 1, blank_col), (blank_row, blank_col - 1), (blank_row, blank_col + 1), (blank_row + 1, blank_col)]:\n",
    "        if 0 <= i < 3 and 0 <= j < 3:\n",
    "            successor = [row.copy() for row in state]\n",
    "            successor[blank_row][blank_col], successor[i][j] = successor[i][j], successor[blank_row][blank_col]\n",
    "            successors.append(successor)\n",
    "    return successors\n",
    "\n",
    "def a_star(initial_state, goal_state):\n",
    "    if initial_state == goal_state:\n",
    "        return 0  # Already at the goal state\n",
    "    open_list = [(manhattan_distance(initial_state, goal_state), 0, initial_state)]\n",
    "    closed_set = set()\n",
    "    while open_list:\n",
    "        open_list.sort(key=lambda x: x[0] + x[1])  # Sort based on heuristic + cost\n",
    "        _, cost, current_state = open_list.pop(0)\n",
    "        if current_state == goal_state:\n",
    "            return cost\n",
    "        if tuple(map(tuple, current_state)) in closed_set:\n",
    "            continue\n",
    "        closed_set.add(tuple(map(tuple, current_state)))\n",
    "        print(f\"Step {cost}:\")\n",
    "        print_configuration(current_state)\n",
    "        for successor in generate_successors(current_state):\n",
    "            if tuple(map(tuple, successor)) not in closed_set:\n",
    "                open_list.append((manhattan_distance(successor, goal_state), cost + 1, successor))\n",
    "    return -1  # If no solution is found\n",
    "\n",
    "# Example usage:\n",
    "initial_configuration = [\n",
    "    [1, 2, 3],\n",
    "    [4, 5, 6],\n",
    "    [7, 8, 'X']\n",
    "]\n",
    "goal_configuration = [\n",
    "    ['X', 2, 3],\n",
    "    [1, 4, 6],\n",
    "    [7, 5, 8]\n",
    "]\n",
    "result = a_star(initial_configuration, goal_configuration)\n",
    "if result != -1:\n",
    "    print(f\"Solution found in {result} steps.\")\n",
    "else:\n",
    "    print(\"No solution found.\")\n"
   ]
  },
  {
   "cell_type": "code",
   "execution_count": null,
   "id": "433156d5-4fc5-4a60-b09b-2780e9afcc1b",
   "metadata": {},
   "outputs": [],
   "source": []
  }
 ],
 "metadata": {
  "kernelspec": {
   "display_name": "Python 3 (ipykernel)",
   "language": "python",
   "name": "python3"
  },
  "language_info": {
   "codemirror_mode": {
    "name": "ipython",
    "version": 3
   },
   "file_extension": ".py",
   "mimetype": "text/x-python",
   "name": "python",
   "nbconvert_exporter": "python",
   "pygments_lexer": "ipython3",
   "version": "3.11.0"
  }
 },
 "nbformat": 4,
 "nbformat_minor": 5
}
